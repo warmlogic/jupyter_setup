{
 "cells": [
  {
   "cell_type": "code",
   "execution_count": null,
   "metadata": {
    "ExecuteTime": {
     "end_time": "2017-07-17T20:44:33.214945Z",
     "start_time": "2017-07-17T20:44:32.264748Z"
    },
    "collapsed": true
   },
   "outputs": [],
   "source": [
    "%matplotlib inline\n",
    "%config InlineBackend.figure_formats = {'png', 'retina'}\n",
    "\n",
    "# %load_ext autoreload\n",
    "# # \"1\" means: always reload modules marked with \"%aimport\"\n",
    "# # \"2\" means: always reload all modules except those marked with \"%aimport\"\n",
    "# %autoreload 1\n",
    "\n",
    "# from __future__ import absolute_import, division, print_function\n",
    "# import os\n",
    "from pathlib import Path\n",
    "# import sys\n",
    "\n",
    "import matplotlib.pyplot as plt\n",
    "# import matplotlib as mpl\n",
    "# from matplotlib.pyplot import GridSpec\n",
    "\n",
    "import numpy as np\n",
    "import pandas as pd\n",
    "import seaborn as sns\n",
    "\n",
    "# import statsmodels.api as sm\n",
    "# import statsmodels.formula.api as smf\n",
    "# import statsmodels.tsa.api as smt\n",
    "\n",
    "# from tqdm import tqdm\n",
    "# import warnings\n",
    "\n",
    "# import missingno as msno\n",
    "\n",
    "sns.set()\n",
    "# sns.set(style=\"ticks\", rc={'lines.linewidth': 2})\n",
    "# sns.set_context(\"poster\", font_scale=1.3)\n",
    "# sns.set_context(\"notebook\", font_scale=1.0)\n",
    "\n",
    "pd.set_option('display.max_columns', 100)\n",
    "pd.set_option('display.max_rows', 100)"
   ]
  },
  {
   "cell_type": "code",
   "execution_count": null,
   "metadata": {
    "collapsed": true
   },
   "outputs": [],
   "source": [
    "# # Example for adding path. Write code in ../src and add that to runtime path.\n",
    "# sys.path.append(str(Path.cwd().parent / 'src'))\n",
    "\n",
    "# # Import like so: import my_module from the_source_directory\n",
    "# %aimport my_module # load autoreload extension above\n",
    "# from my_module.build_features import remove_invalid_data"
   ]
  },
  {
   "cell_type": "code",
   "execution_count": null,
   "metadata": {
    "collapsed": true
   },
   "outputs": [],
   "source": []
  }
 ],
 "metadata": {
  "anaconda-cloud": {},
  "kernelspec": {
   "display_name": "Python 3",
   "language": "python",
   "name": "python3"
  },
  "language_info": {
   "codemirror_mode": {
    "name": "ipython",
    "version": 3
   },
   "file_extension": ".py",
   "mimetype": "text/x-python",
   "name": "python",
   "nbconvert_exporter": "python",
   "pygments_lexer": "ipython3",
   "version": "3.6.2"
  },
  "toc": {
   "colors": {
    "hover_highlight": "#DAA520",
    "navigate_num": "#000000",
    "navigate_text": "#333333",
    "running_highlight": "#FF0000",
    "selected_highlight": "#FFD700",
    "sidebar_border": "#EEEEEE",
    "wrapper_background": "#FFFFFF"
   },
   "moveMenuLeft": true,
   "nav_menu": {
    "height": "12px",
    "width": "252px"
   },
   "navigate_menu": true,
   "number_sections": true,
   "sideBar": true,
   "threshold": 4,
   "toc_cell": true,
   "toc_section_display": "block",
   "toc_window_display": false,
   "widenNotebook": false
  }
 },
 "nbformat": 4,
 "nbformat_minor": 1
}
