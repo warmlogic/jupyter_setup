{
 "cells": [
  {
   "cell_type": "code",
   "execution_count": null,
   "metadata": {
    "collapsed": true
   },
   "outputs": [],
   "source": [
    "%matplotlib inline\n",
    "%config InlineBackend.figure_formats = {'png', 'retina'}\n",
    "\n",
    "%load_ext autoreload\n",
    "# \"1\" means: always reload modules marked with \"%aimport\"\n",
    "# \"2\" means: always reload all modules except those marked with \"%aimport\"\n",
    "%autoreload 1\n",
    "\n",
    "from pathlib import Path\n",
    "import sys\n",
    "import os\n",
    "\n",
    "import matplotlib.pyplot as plt\n",
    "# import matplotlib as mpl\n",
    "# from matplotlib.pyplot import GridSpec\n",
    "\n",
    "import numpy as np\n",
    "import pandas as pd\n",
    "import seaborn as sns\n",
    "\n",
    "# import statsmodels.api as sm\n",
    "# import statsmodels.formula.api as smf\n",
    "# import statsmodels.tsa.api as smt\n",
    "\n",
    "# from tqdm import tqdm\n",
    "# import warnings\n",
    "\n",
    "# import logging\n",
    "# logging.basicConfig(format='{asctime} : {levelname} : {message}', level=logging.INFO, style='{')\n",
    "\n",
    "# import missingno as msno\n",
    "# from pandas_profiling import ProfileReport\n",
    "\n",
    "# sns.set()\n",
    "sns.set(rc={'lines.linewidth': 2})\n",
    "# sns.set(style='ticks', rc={'lines.linewidth': 2})\n",
    "# sns.set_context(context='poster', font_scale=1.0)\n",
    "sns.set_context(context='notebook', font_scale=1.3)\n",
    "\n",
    "plt.rc('figure', figsize=(8.0, 6.0))\n",
    "\n",
    "pd.set_option('display.max_columns', 100)\n",
    "pd.set_option('display.max_rows', 100)\n",
    "np.set_printoptions(precision=4, linewidth=100)"
   ]
  },
  {
   "cell_type": "code",
   "execution_count": null,
   "metadata": {
    "collapsed": true
   },
   "outputs": [],
   "source": [
    "# ANSARO_REPO_ROOT = Path(os.getenv('ANSARO_REPO_ROOT'))\n",
    "# REPO_ROOT = ANSARO_REPO_ROOT / 'my-repo-name'\n",
    "\n",
    "# # add module directory to runtime path\n",
    "# sys.path.append((ANSARO_REPO_ROOT / 'ansaro_utils' / 'src').as_posix())\n",
    "\n",
    "# # Assuming directory structure based on https://drivendata.github.io/cookiecutter-data-science/\n",
    "# # Which is the directory structure enabled by the nb-create-project function\n",
    "# # Write code in ../src/my_module/functions.py and add src to runtime path\n",
    "# sys.path.append((REPO_ROOT / 'src').as_posix())\n",
    "\n",
    "# # autoreload module (extension loaded above)\n",
    "# %aimport my_module.functions\n",
    "# import my_module.functions as myf\n",
    "# from my_module.functions import my_function"
   ]
  },
  {
   "cell_type": "code",
   "execution_count": null,
   "metadata": {
    "collapsed": true
   },
   "outputs": [],
   "source": []
  }
 ],
 "metadata": {
  "anaconda-cloud": {},
  "kernelspec": {
   "display_name": "py3",
   "language": "python",
   "name": "py3"
  },
  "language_info": {
   "codemirror_mode": {
    "name": "ipython",
    "version": 3
   },
   "file_extension": ".py",
   "mimetype": "text/x-python",
   "name": "python",
   "nbconvert_exporter": "python",
   "pygments_lexer": "ipython3",
   "version": "3.6.4"
  },
  "toc": {
   "nav_menu": {
    "height": "12px",
    "width": "252px"
   },
   "number_sections": true,
   "sideBar": true,
   "skip_h1_title": false,
   "title_cell": "Table of Contents",
   "title_sidebar": "Contents",
   "toc_cell": true,
   "toc_position": {},
   "toc_section_display": "block",
   "toc_window_display": false
  }
 },
 "nbformat": 4,
 "nbformat_minor": 1
}
