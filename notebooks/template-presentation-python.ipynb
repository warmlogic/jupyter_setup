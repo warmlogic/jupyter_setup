{
 "cells": [
  {
   "cell_type": "markdown",
   "metadata": {
    "toc": "true"
   },
   "source": [
    "# Table of Contents\n",
    " <p><div class=\"lev1 toc-item\"><a href=\"#Presentation-Template\" data-toc-modified-id=\"Presentation-Template-1\"><span class=\"toc-item-num\">1&nbsp;&nbsp;</span>Presentation Template</a></div><div class=\"lev1 toc-item\"><a href=\"#Introduction\" data-toc-modified-id=\"Introduction-2\"><span class=\"toc-item-num\">2&nbsp;&nbsp;</span>Introduction</a></div><div class=\"lev2 toc-item\"><a href=\"#Purpose\" data-toc-modified-id=\"Purpose-21\"><span class=\"toc-item-num\">2.1&nbsp;&nbsp;</span>Purpose</a></div><div class=\"lev2 toc-item\"><a href=\"#Guiding-Questions:\" data-toc-modified-id=\"Guiding-Questions:-22\"><span class=\"toc-item-num\">2.2&nbsp;&nbsp;</span>Guiding Questions:</a></div><div class=\"lev2 toc-item\"><a href=\"#Key-Findings\" data-toc-modified-id=\"Key-Findings-23\"><span class=\"toc-item-num\">2.3&nbsp;&nbsp;</span>Key Findings</a></div><div class=\"lev3 toc-item\"><a href=\"#Notes\" data-toc-modified-id=\"Notes-231\"><span class=\"toc-item-num\">2.3.1&nbsp;&nbsp;</span>Notes</a></div><div class=\"lev1 toc-item\"><a href=\"#Data-Input\" data-toc-modified-id=\"Data-Input-3\"><span class=\"toc-item-num\">3&nbsp;&nbsp;</span>Data Input</a></div><div class=\"lev1 toc-item\"><a href=\"#Analysis-Sections\" data-toc-modified-id=\"Analysis-Sections-4\"><span class=\"toc-item-num\">4&nbsp;&nbsp;</span>Analysis Sections</a></div><div class=\"lev2 toc-item\"><a href=\"#Guiding-Question-/-Hypothesis-1\" data-toc-modified-id=\"Guiding-Question-/-Hypothesis-1-41\"><span class=\"toc-item-num\">4.1&nbsp;&nbsp;</span>Guiding Question / Hypothesis 1</a></div><div class=\"lev1 toc-item\"><a href=\"#Conclusions\" data-toc-modified-id=\"Conclusions-5\"><span class=\"toc-item-num\">5&nbsp;&nbsp;</span>Conclusions</a></div><div class=\"lev2 toc-item\"><a href=\"#Key-Findings\" data-toc-modified-id=\"Key-Findings-51\"><span class=\"toc-item-num\">5.1&nbsp;&nbsp;</span>Key Findings</a></div><div class=\"lev2 toc-item\"><a href=\"#Action-Items\" data-toc-modified-id=\"Action-Items-52\"><span class=\"toc-item-num\">5.2&nbsp;&nbsp;</span>Action Items</a></div><div class=\"lev1 toc-item\"><a href=\"#Appendix\" data-toc-modified-id=\"Appendix-6\"><span class=\"toc-item-num\">6&nbsp;&nbsp;</span>Appendix</a></div>"
   ]
  },
  {
   "cell_type": "raw",
   "metadata": {},
   "source": [
    "<script>\n",
    "code_show=true; \n",
    "function code_toggle() {\n",
    " if (code_show){\n",
    " $('div.input').hide();\n",
    " } else {\n",
    " $('div.input').show();\n",
    " }\n",
    " code_show = !code_show\n",
    "} \n",
    "$( document ).ready(code_toggle);\n",
    "</script>\n",
    "<form action=\"javascript:code_toggle()\"><input type=\"submit\" value=\"Click here to toggle on/off the raw code.\"></form>"
   ]
  },
  {
   "cell_type": "markdown",
   "metadata": {},
   "source": [
    "# Presentation Template\n",
    "<div class=\"alert alert-info\">*This is a template for a presentation. Blue boxes in the template convey information about using the template. Remove these before sharing with clients*</div>\n",
    "<div class=\"alert alert-warning\">Yellow boxes hold important messages to keep in mind. Remove these before sharing with clients as well.</div>\n",
    "\n",
    "Use markdown cells to begin each section with a heading, and subsections with subheadings, using # and ## and ### in descending hierarchy.\n",
    "\n",
    "*The template is not intended to be an overly rigid document. Violations of the template are acceptable as long as they substantively improve the presentation and have a valid purpose. However, if the template is regularly being modified in a specific way then the template itself should be forked or modified.*\n",
    "\n",
    "\n",
    "<div class=\"alert alert-warning\">Recognize that violations of the template come at a cost to the reader who has to adjust to the changes and come at a cost, so **modify with care**</div>"
   ]
  },
  {
   "cell_type": "markdown",
   "metadata": {},
   "source": [
    "# Introduction"
   ]
  },
  {
   "cell_type": "markdown",
   "metadata": {},
   "source": [
    "## Purpose"
   ]
  },
  {
   "cell_type": "markdown",
   "metadata": {},
   "source": [
    "<div class=\"alert alert-info\">This section describes what this notebook is for, and why the reader should care about what they are reading</div>"
   ]
  },
  {
   "cell_type": "markdown",
   "metadata": {},
   "source": [
    "## Guiding Questions:\n",
    "\n",
    "1. **Question 1**\n",
    "2. **Question 2**\n",
    "3. **Question 3**\n",
    "4. ...."
   ]
  },
  {
   "cell_type": "markdown",
   "metadata": {},
   "source": [
    "<div class=\"alert alert-info\">*This part of the document is an explanation of the key hypothesis and questions of interest. The notebook should explore either a single Agile story broken into subsections. If multiple stories need to be discussed it would generally be better to use two notebooks so the thematic flow is retained.*</div>\n"
   ]
  },
  {
   "cell_type": "markdown",
   "metadata": {},
   "source": [
    "## Key Findings\n",
    "\n",
    "1. **Finding 1**\n",
    "2. **Finding 2**\n",
    "3. **Finding 3**\n",
    "4. ..."
   ]
  },
  {
   "cell_type": "markdown",
   "metadata": {},
   "source": [
    "<div class=\"alert alert-info\">*This part of the document is an explanation of the key results that will be shared below. The idea is to inform the reader what they will be seeing in the document below. This establishes the messages of the analysis below and helps the users understand what they will be seeing.*</div>"
   ]
  },
  {
   "cell_type": "markdown",
   "metadata": {},
   "source": [
    "### Notes\n",
    "<div class=\"alert alert-warning\">Optional, Remove if Unused</div>"
   ]
  },
  {
   "cell_type": "markdown",
   "metadata": {},
   "source": [
    "<div class=\"alert alert-info\">*This section should include any notes to reader, such as major issues with data quality or other points of concern they should be aware of. This section is optional and depends on the needs of the document*</div>"
   ]
  },
  {
   "cell_type": "markdown",
   "metadata": {},
   "source": [
    "# Data Input"
   ]
  },
  {
   "cell_type": "markdown",
   "metadata": {},
   "source": [
    "<div class=\"alert alert-warning\">Data may change over time (tables getting updated) so that the same query returns different results depending on _when_ the query was run. If this is a possibility, mention it and its likely impacts.</div>"
   ]
  },
  {
   "cell_type": "markdown",
   "metadata": {},
   "source": [
    " - File/table name:\n",
    " - Query date:\n",
    " - Description of data:\n",
    " - Date range covered by data:\n",
    " - Included population:\n",
    " - Associated query file:\n",
    " - Associated query:"
   ]
  },
  {
   "cell_type": "code",
   "execution_count": null,
   "metadata": {
    "collapsed": true
   },
   "outputs": [],
   "source": [
    "######\n",
    "# \n",
    "# Library/Package Loads\n",
    "#\n",
    "# This section should contain all library/package loads required for the code.\n",
    "#\n",
    "######\n",
    "\n",
    "%matplotlib inline\n",
    "%config InlineBackend.figure_formats = {'png', 'retina'}\n",
    "\n",
    "# %load_ext autoreload\n",
    "# # \"1\" means: always reload modules marked with \"%aimport\"\n",
    "# # \"2\" means: always reload all modules except those marked with \"%aimport\"\n",
    "# %autoreload 1\n",
    "\n",
    "# from __future__ import absolute_import, division, print_function\n",
    "# import os\n",
    "from pathlib import Path\n",
    "# import sys\n",
    "\n",
    "import matplotlib.pyplot as plt\n",
    "# import matplotlib as mpl\n",
    "# from matplotlib.pyplot import GridSpec\n",
    "\n",
    "import numpy as np\n",
    "import pandas as pd\n",
    "import seaborn as sns\n",
    "\n",
    "# import statsmodels.api as sm\n",
    "# import statsmodels.formula.api as smf\n",
    "# import statsmodels.tsa.api as smt\n",
    "\n",
    "# from tqdm import tqdm\n",
    "# import warnings\n",
    "\n",
    "# import missingno as msno\n",
    "\n",
    "# sns.set()\n",
    "sns.set(rc={'lines.linewidth': 2})\n",
    "# sns.set(style='ticks', rc={'lines.linewidth': 2})\n",
    "sns.set_context(context='poster', font_scale=1.0)\n",
    "# sns.set_context(context='notebook', font_scale=1.3)\n",
    "\n",
    "# pd.set_option('display.max_columns', 100)\n",
    "# pd.set_option('display.max_rows', 100)"
   ]
  },
  {
   "cell_type": "code",
   "execution_count": null,
   "metadata": {
    "collapsed": true
   },
   "outputs": [],
   "source": [
    "# ######\n",
    "# #\n",
    "# # Configurations\n",
    "# #\n",
    "# # This section contains specific configurations required by the code \n",
    "# # going forward, including formatting options.\n",
    "# #\n",
    "# ######\n",
    "\n",
    "# # Example for adding path. Write code in ../src and add that to runtime path.\n",
    "# sys.path.append(str(Path.cwd().parent / 'src'))\n",
    "\n",
    "# ######\n",
    "# #\n",
    "# # Source Files\n",
    "# #\n",
    "# # This section should contain other source files loaded before the code runs.\n",
    "# # Preferably some note of the features of the source files would be appropriate.\n",
    "# #\n",
    "# ######\n",
    "\n",
    "# # Import like so: import my_module from the_source_directory\n",
    "# %aimport my_module # load autoreload extension above\n",
    "# from my_module.build_features import remove_invalid_data"
   ]
  },
  {
   "cell_type": "markdown",
   "metadata": {},
   "source": [
    "# Analysis Sections"
   ]
  },
  {
   "cell_type": "markdown",
   "metadata": {
    "collapsed": true
   },
   "source": [
    "<div class=\"alert alert-info\">*These sections should contain the core results of the analysis.*</div>\n",
    "\n",
    "*Some general rules:*\n",
    "\n",
    "\n",
    "<div class=\"alert alert-warning\">***Not everything you have done in your work should be shown.***\n",
    "\n",
    "*Focus on the main points. Have the work available if needed but someone looking at your work has not completed \n",
    "every step, nor are they likely to have time to do so.*</div>\n",
    "\n",
    "<div class=\"alert alert-warning\">***Develop a thematic message***\n",
    "\n",
    "*Make it easy for the person looking at your presentation to understand the major points. Be prepared to discuss minor points, or address specific questions, but prepare the topic so that the key takeaways and important efforts are clear.*</div>\n",
    "\n",
    "<div class=\"alert alert-warning\">***Emphasize the key takeaways, strive for clarity***\n",
    "\n",
    "*This is a presentation, not a raw document. The person seeing your work has not gone through the rigorous evaluation you have. They don't know every nook and cranny. They need you to point out things that became obvious to you as part of your analysis. Provide strong takeaways.*</div>"
   ]
  },
  {
   "cell_type": "markdown",
   "metadata": {},
   "source": [
    "## Guiding Question / Hypothesis 1"
   ]
  },
  {
   "cell_type": "markdown",
   "metadata": {
    "collapsed": true
   },
   "source": [
    "<div class=\"alert alert-danger\">Key Finding 1</div>"
   ]
  },
  {
   "cell_type": "markdown",
   "metadata": {},
   "source": [
    "# Conclusions"
   ]
  },
  {
   "cell_type": "markdown",
   "metadata": {
    "collapsed": true
   },
   "source": [
    "<div class=\"alert alert-info\">This section should wrap up the main ideas expressed above, and should contain a basic repeat of the findings addressed above along with suggested action items. The findings in this section should be slightly more detailed, in that at this point the user should have seen the work and you can reference specifics.</div>"
   ]
  },
  {
   "cell_type": "markdown",
   "metadata": {},
   "source": [
    "## Key Findings\n",
    "\n",
    "1. **Finding 1**\n",
    "2. **Finding 2**\n",
    "3. **Finding 3**\n",
    "4. ..."
   ]
  },
  {
   "cell_type": "markdown",
   "metadata": {
    "collapsed": true
   },
   "source": [
    "## Action Items\n",
    "\n",
    "1. **Item 1**\n",
    "2. **Item 2**\n",
    "3. **Item 3**"
   ]
  },
  {
   "cell_type": "markdown",
   "metadata": {},
   "source": [
    "# Appendix\n",
    "\n"
   ]
  },
  {
   "cell_type": "code",
   "execution_count": null,
   "metadata": {
    "collapsed": true,
    "scrolled": true
   },
   "outputs": [],
   "source": [
    "# Currently doesn't work, but putting the versions of libraries used at the end is probably a good idea.\n",
    "# %install_ext http://raw.github.com/jrjohansson/version_information/master/version_information.py\n",
    "# %load_ext version_information\n",
    "# %reload_ext version_information\n",
    "# %version_information numpy, matplotlib, pandas"
   ]
  },
  {
   "cell_type": "raw",
   "metadata": {},
   "source": [
    "<center><h2>© 2017</center>"
   ]
  }
 ],
 "metadata": {
  "anaconda-cloud": {},
  "kernelspec": {
   "display_name": "Python 3",
   "language": "python",
   "name": "python3"
  },
  "language_info": {
   "codemirror_mode": {
    "name": "ipython",
    "version": 3
   },
   "file_extension": ".py",
   "mimetype": "text/x-python",
   "name": "python",
   "nbconvert_exporter": "python",
   "pygments_lexer": "ipython3",
   "version": "3.6.2"
  },
  "nav_menu": {},
  "toc": {
   "colors": {
    "hover_highlight": "#DAA520",
    "navigate_num": "#000000",
    "navigate_text": "#333333",
    "running_highlight": "#FF0000",
    "selected_highlight": "#FFD700",
    "sidebar_border": "#EEEEEE",
    "wrapper_background": "#FFFFFF"
   },
   "moveMenuLeft": true,
   "nav_menu": {
    "height": "246px",
    "width": "252px"
   },
   "navigate_menu": true,
   "number_sections": false,
   "sideBar": false,
   "threshold": 4,
   "toc_cell": true,
   "toc_section_display": "block",
   "toc_window_display": false,
   "widenNotebook": false
  }
 },
 "nbformat": 4,
 "nbformat_minor": 1
}
